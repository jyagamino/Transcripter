{
 "cells": [
  {
   "cell_type": "code",
   "execution_count": null,
   "metadata": {
    "vscode": {
     "languageId": "plaintext"
    }
   },
   "outputs": [],
   "source": [
    "!pip install openai-whisper ffmpeg torch"
   ]
  },
  {
   "cell_type": "code",
   "execution_count": null,
   "metadata": {
    "vscode": {
     "languageId": "plaintext"
    }
   },
   "outputs": [],
   "source": [
    "from google.colab import drive\n",
    "\n",
    "def mount_google_drive():\n",
    "    \"\"\"Google Driveをマウントします\"\"\"\n",
    "    drive.mount('/content/drive')\n",
    "    print(\"Google Drive mounted successfully.\")\n",
    "\n",
    "mount_google_drive()"
   ]
  },
  {
   "cell_type": "code",
   "execution_count": null,
   "metadata": {
    "vscode": {
     "languageId": "plaintext"
    }
   },
   "outputs": [],
   "source": [
    "import os\n",
    "\n",
    "def list_audio_files(folder_path):\n",
    "    \"\"\"指定したフォルダ内の音声/動画ファイルをリストアップします\"\"\"\n",
    "    return [\n",
    "        os.path.join(folder_path, f)\n",
    "        for f in os.listdir(folder_path)\n",
    "        if f.endswith(('.mp3', '.mp4', '.wav'))\n",
    "    ]\n",
    "\n",
    "# Google Drive内のフォルダパスを指定してください\n",
    "target_folder = \"/content/drive/My Drive/TranscriptionFolder\"\n",
    "audio_files = list_audio_files(target_folder)\n",
    "\n",
    "if not audio_files:\n",
    "    print(\"対象の音声/動画ファイルが見つかりませんでした。\")\n",
    "else:\n",
    "    print(f\"対象のファイル: {audio_files}\")"
   ]
  },
  {
   "cell_type": "code",
   "execution_count": null,
   "metadata": {
    "vscode": {
     "languageId": "plaintext"
    }
   },
   "outputs": [],
   "source": [
    "import whisper\n",
    "\n",
    "def transcribe_files(files, model):\n",
    "    \"\"\"ファイルごとにテキスト化を実行し、結果を保存します\"\"\"\n",
    "    for file_path in files:\n",
    "        print(f\"Processing: {file_path}\")\n",
    "        result = model.transcribe(file_path)\n",
    "        \n",
    "        # 結果をテキストファイルとして保存\n",
    "        output_file = file_path.replace('.mp3', '.txt').replace('.mp4', '.txt').replace('.wav', '.txt')\n",
    "        with open(output_file, \"w\") as f:\n",
    "            f.write(result[\"text\"])\n",
    "        print(f\"Saved transcription to: {output_file}\")\n",
    "\n",
    "# Whisperモデルをロード\n",
    "model = whisper.load_model(\"medium\")  # 必要に応じてモデルサイズを変更\n",
    "\n",
    "# テキスト化を実行\n",
    "if audio_files:\n",
    "    transcribe_files(audio_files, model)"
   ]
  },
  {
   "cell_type": "code",
   "execution_count": null,
   "metadata": {
    "vscode": {
     "languageId": "plaintext"
    }
   },
   "outputs": [],
   "source": [
    "print(\"すべてのファイルをテキスト化しました！\")"
   ]
  }
 ],
 "metadata": {
  "language_info": {
   "name": "python"
  }
 },
 "nbformat": 4,
 "nbformat_minor": 2
}
