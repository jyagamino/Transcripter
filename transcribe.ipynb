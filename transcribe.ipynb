{
  "cells": [
    {
      "cell_type": "code",
      "execution_count": null,
      "metadata": {
        "vscode": {
          "languageId": "plaintext"
        },
        "id": "N44rUBh-_O6p"
      },
      "outputs": [],
      "source": [
        "!pip install openai-whisper ffmpeg torch"
      ]
    },
    {
      "cell_type": "code",
      "execution_count": null,
      "metadata": {
        "vscode": {
          "languageId": "plaintext"
        },
        "id": "lqhJZGf0_O6r"
      },
      "outputs": [],
      "source": [
        "from google.colab import drive\n",
        "\n",
        "def mount_google_drive():\n",
        "    \"\"\"Google Driveをマウントします\"\"\"\n",
        "    drive.mount('/content/drive')\n",
        "    print(\"Google Drive mounted successfully.\")\n",
        "\n",
        "# Google Driveのマウント\n",
        "mount_google_drive()"
      ]
    },
    {
      "cell_type": "code",
      "execution_count": null,
      "metadata": {
        "vscode": {
          "languageId": "plaintext"
        },
        "id": "Js9YC_Rf_O6r"
      },
      "outputs": [],
      "source": [
        "import os\n",
        "\n",
        "def list_media_files(folder_path):\n",
        "    \"\"\"指定フォルダ内のMP4またはMP3ファイルをリストアップ\"\"\"\n",
        "    return [\n",
        "        os.path.join(folder_path, f)\n",
        "        for f in os.listdir(folder_path)\n",
        "        if f.endswith(('.mp4', '.mp3'))\n",
        "    ]\n",
        "\n",
        "# Google Drive内の対象フォルダを指定してください\n",
        "target_folder = \"/content/drive/My Drive/TranscriptionFolder\"\n",
        "media_files = list_media_files(target_folder)\n",
        "\n",
        "if not media_files:\n",
        "    print(\"対象のMP4またはMP3ファイルが見つかりませんでした。\")\n",
        "else:\n",
        "    print(f\"対象ファイル: {media_files}\")\n"
      ]
    },
    {
      "cell_type": "code",
      "execution_count": null,
      "metadata": {
        "vscode": {
          "languageId": "plaintext"
        },
        "id": "m9WwkJXm_O6r"
      },
      "outputs": [],
      "source": [
        "import subprocess\n",
        "\n",
        "def convert_mp4_to_mp3(mp4_file):\n",
        "    \"\"\"MP4ファイルをMP3ファイルに変換\"\"\"\n",
        "    mp3_file = mp4_file.replace(\".mp4\", \".mp3\")\n",
        "    command = f'ffmpeg -i \"{mp4_file}\" -q:a 0 -map a \"{mp3_file}\" -y'\n",
        "    subprocess.run(command, shell=True, check=True)\n",
        "    print(f\"Converted {mp4_file} to {mp3_file}\")\n",
        "    return mp3_file\n"
      ]
    },
    {
      "cell_type": "code",
      "execution_count": null,
      "metadata": {
        "vscode": {
          "languageId": "plaintext"
        },
        "id": "V_KczaV3_O6s"
      },
      "outputs": [],
      "source": [
        "import whisper\n",
        "\n",
        "def transcribe_files(files, model):\n",
        "    \"\"\"ファイルごとにテキスト化を実行し、結果を保存\"\"\"\n",
        "    for file_path in files:\n",
        "        print(f\"Processing: {file_path}\")\n",
        "        try:\n",
        "            result = model.transcribe(file_path)\n",
        "            output_file = file_path.replace('.mp3', '.txt')\n",
        "            with open(output_file, \"w\") as f:\n",
        "                f.write(result[\"text\"])\n",
        "            print(f\"Saved transcription to: {output_file}\")\n",
        "        except Exception as e:\n",
        "            print(f\"Error processing {file_path}: {e}\")\n"
      ]
    },
    {
      "cell_type": "code",
      "execution_count": null,
      "metadata": {
        "vscode": {
          "languageId": "plaintext"
        },
        "id": "eoGnjYq0_O6s"
      },
      "outputs": [],
      "source": [
        "import whisper\n",
        "\n",
        "# Whisperモデルをロード\n",
        "# FP16を使用しない設定（CPU用）\n",
        "model = whisper.load_model(\"small\", device=\"cpu\")  # 必要に応じてモデルサイズを変更\n",
        "\n",
        "# モデルのすべてのパラメータをFP32（単精度浮動小数点）に変換\n",
        "for param in model.parameters():\n",
        "    param.data = param.data.to(dtype=torch.float32)\n",
        "    if param.grad is not None:\n",
        "        param.grad.data = param.grad.data.to(dtype=torch.float32)\n",
        "\n",
        "# MP4ファイルを変換してMP3をリストアップ\n",
        "converted_mp3_files = []\n",
        "for media_file in media_files:\n",
        "    if media_file.endswith(\".mp4\"):\n",
        "        try:\n",
        "            converted_mp3_files.append(convert_mp4_to_mp3(media_file))\n",
        "        except subprocess.CalledProcessError as e:\n",
        "            print(f\"Error converting {media_file}: {e}\")\n",
        "    elif media_file.endswith(\".mp3\"):\n",
        "        converted_mp3_files.append(media_file)\n",
        "\n",
        "# テキスト化を実行\n",
        "if converted_mp3_files:\n",
        "    transcribe_files(converted_mp3_files, model)\n",
        "else:\n",
        "    print(\"テキスト化するファイルがありません。\")\n"
      ]
    }
  ],
  "metadata": {
    "language_info": {
      "name": "python"
    },
    "colab": {
      "provenance": []
    }
  },
  "nbformat": 4,
  "nbformat_minor": 0
}